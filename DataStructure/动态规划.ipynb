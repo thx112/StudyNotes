{
 "cells": [
  {
   "cell_type": "code",
   "execution_count": 12,
   "metadata": {},
   "outputs": [
    {
     "data": {
      "text/plain": [
       "55"
      ]
     },
     "execution_count": 12,
     "metadata": {},
     "output_type": "execute_result"
    }
   ],
   "source": [
    "#斐波那契数列\n",
    "def fib(n):\n",
    "    if n == 0:\n",
    "        return 0\n",
    "    if (n==2)or(n==1):\n",
    "        return 1\n",
    "    return fib(n-2) + fib(n-1)\n",
    "fib(10)"
   ]
  },
  {
   "cell_type": "code",
   "execution_count": 13,
   "metadata": {},
   "outputs": [
    {
     "name": "stdout",
     "output_type": "stream",
     "text": [
      "2\n",
      "*\n",
      "3\n",
      "*\n",
      "5\n",
      "*\n",
      "8\n",
      "*\n",
      "13\n",
      "*\n",
      "21\n",
      "*\n"
     ]
    },
    {
     "data": {
      "text/plain": [
       "55"
      ]
     },
     "execution_count": 13,
     "metadata": {},
     "output_type": "execute_result"
    }
   ],
   "source": [
    "# 记录已经计算过得 值\n",
    "dict_fib = {}\n",
    "\n",
    "\n",
    "def fib1(n):\n",
    "    # 终止条件 边界\n",
    "    if n <= 2:\n",
    "        return 1\n",
    "    elif dict_fib.get(n):\n",
    "        print(dict_fib.get(n))\n",
    "        print('*')\n",
    "        return dict_fib.get(n)\n",
    "    else:\n",
    "        # 最优子结构 状态转移公式\n",
    "        dict_fib[n] = fib1(n - 1) + fib1(n - 2)\n",
    "        return dict_fib[n]\n",
    "fib1(10)"
   ]
  },
  {
   "cell_type": "code",
   "execution_count": 16,
   "metadata": {},
   "outputs": [
    {
     "name": "stdout",
     "output_type": "stream",
     "text": [
      "51\n"
     ]
    },
    {
     "data": {
      "text/plain": [
       "12586269025"
      ]
     },
     "execution_count": 16,
     "metadata": {},
     "output_type": "execute_result"
    }
   ],
   "source": [
    "# 动态规划 先解决小数据量的 再层层递推的解决大数据量级的问题 时间复杂度O(n) \n",
    "# 问题：空间复杂度O(n)\n",
    "def fib2(n):\n",
    "    memo = [-1 for x in range(n+1)] \n",
    "    memo[0] = 0\n",
    "    memo[1] = 1\n",
    "    for i in range(2, n+1):\n",
    "        memo[i] = memo[i-1]+memo[i-2]\n",
    "    return memo[n]\n",
    "fib2(50)"
   ]
  },
  {
   "cell_type": "code",
   "execution_count": 17,
   "metadata": {},
   "outputs": [
    {
     "data": {
      "text/plain": [
       "12586269025"
      ]
     },
     "execution_count": 17,
     "metadata": {},
     "output_type": "execute_result"
    }
   ],
   "source": [
    "# 记忆化搜索\n",
    "MAXSIZE = 1000\n",
    "memo = [-1 for i in range(MAXSIZE)]\n",
    "def fib3(n):\n",
    "    if n == 0:\n",
    "        return 0\n",
    "    if n == 1:\n",
    "        return 1\n",
    "    if memo[n] == -1:\n",
    "        memo[n] = fib3(n-1) + fib3(n-2)\n",
    "    return memo[n]\n",
    "fib3(50)"
   ]
  },
  {
   "cell_type": "code",
   "execution_count": null,
   "metadata": {},
   "outputs": [],
   "source": []
  }
 ],
 "metadata": {
  "kernelspec": {
   "display_name": "Python 3",
   "language": "python",
   "name": "python3"
  },
  "language_info": {
   "codemirror_mode": {
    "name": "ipython",
    "version": 3
   },
   "file_extension": ".py",
   "mimetype": "text/x-python",
   "name": "python",
   "nbconvert_exporter": "python",
   "pygments_lexer": "ipython3",
   "version": "3.7.3"
  }
 },
 "nbformat": 4,
 "nbformat_minor": 2
}
