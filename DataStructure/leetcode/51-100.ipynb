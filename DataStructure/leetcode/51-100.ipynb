{
 "cells": [
  {
   "cell_type": "markdown",
   "metadata": {},
   "source": [
    "面试题56 - I. 数组中数字出现的次数\n",
    "\n",
    "一个整型数组 nums 里除两个数字之外，其他数字都出现了两次。请写程序找出这两个只出现一次的数字。要求时间复杂度是O(n)，空间复杂度是O(1)。\n",
    "\n",
    "示例 1：\n",
    "输入：nums = [4,1,4,6]\n",
    "输出：[1,6] 或 [6,1]\n",
    "\n",
    "示例 2：\n",
    "输入：nums = [1,2,10,4,1,4,3,3]\n",
    "输出：[2,10] 或 [10,2]\n",
    "\n",
    "限制：\n",
    "2 <= nums <= 10000"
   ]
  },
  {
   "cell_type": "code",
   "execution_count": 5,
   "metadata": {},
   "outputs": [
    {
     "name": "stdout",
     "output_type": "stream",
     "text": [
      "[3]\n"
     ]
    }
   ],
   "source": [
    "class Solution:\n",
    "    def singleNumbers(self, nums):\n",
    "        list1 = []\n",
    "        list2 = []\n",
    "        for i in nums:\n",
    "            if i in list1:\n",
    "                list2.append(i)\n",
    "            else:\n",
    "                list1.append(i)\n",
    "        for i in list2:\n",
    "            if i in list1:\n",
    "                list1.remove(i)\n",
    "        return list1\n",
    "            \n",
    "            \n",
    "obj = Solution()\n",
    "obj.singleNumbers([1,2,3,4,4,2,1])"
   ]
  },
  {
   "cell_type": "markdown",
   "metadata": {},
   "source": [
    "面试题56 - II. 数组中数字出现的次数 II\n",
    "\n",
    "在一个数组 nums 中除一个数字只出现一次之外，其他数字都出现了三次。请找出那个只出现一次的数字。\n",
    "\n",
    "示例 1：\n",
    "输入：nums = [3,4,3,3]\n",
    "输出：4\n",
    "\n",
    "示例 2：\n",
    "输入：nums = [9,1,7,9,7,9,7]\n",
    "输出：1\n",
    "\n",
    "限制：\n",
    "1 <= nums.length <= 10000\n",
    "1 <= nums[i] < 2^31\n"
   ]
  },
  {
   "cell_type": "code",
   "execution_count": 10,
   "metadata": {},
   "outputs": [
    {
     "name": "stdout",
     "output_type": "stream",
     "text": [
      "1\n"
     ]
    }
   ],
   "source": [
    "class Solution:\n",
    "    def singleNumber(self, nums):\n",
    "        list1 = []\n",
    "        list2 = []\n",
    "        if (len(nums)<2 or len(nums)>10000):\n",
    "            return False\n",
    "        for i in nums:\n",
    "            if i in list1:\n",
    "                list2.append(i)\n",
    "            else:\n",
    "                list1.append(i)\n",
    "        for i in list1:\n",
    "            if i in list2:\n",
    "                pass\n",
    "            else:\n",
    "                return i\n",
    "\n",
    "obj = Solution()\n",
    "obj.singleNumber([9,1,7,9,7,9,7])"
   ]
  },
  {
   "cell_type": "markdown",
   "metadata": {},
   "source": [
    "面试题57-I. 和为s的两个数字\n",
    "\n",
    "输入一个递增排序的数组和一个数字s，在数组中查找两个数，使得它们的和正好是s。如果有多对数字的和等于s，则输出任意一对即可。\n",
    "\n",
    "示例 1：\n",
    "输入：nums = [2,7,11,15], target = 9\n",
    "输出：[2,7] 或者 [7,2]\n",
    "\n",
    "示例 2：\n",
    "输入：nums = [10,26,30,31,47,60], target = 40\n",
    "输出：[10,30] 或者 [30,10]\n",
    " \n",
    "限制：\n",
    "1 <= nums.length <= 10^5\n",
    "1 <= nums[i] <= 10^6"
   ]
  },
  {
   "cell_type": "code",
   "execution_count": 14,
   "metadata": {},
   "outputs": [
    {
     "data": {
      "text/plain": [
       "[10, 30]"
      ]
     },
     "execution_count": 14,
     "metadata": {},
     "output_type": "execute_result"
    }
   ],
   "source": [
    "# 使用双指针，时间O(N) 空间O(1)\n",
    "class Solution:\n",
    "    def twoSum(self, nums, target):\n",
    "        n = len(nums)\n",
    "        l, r = 0, n - 1\n",
    "        while l < r:\n",
    "            sum = nums[l] + nums[r]\n",
    "            if sum == target:\n",
    "                return [nums[l], nums[r]]\n",
    "            elif sum > target:\n",
    "                r -= 1\n",
    "            else:\n",
    "                l += 1\n",
    "        return []\n",
    "    \n",
    "obj = Solution()\n",
    "obj.twoSum([10,26,30,31,47,60],40)"
   ]
  },
  {
   "cell_type": "markdown",
   "metadata": {},
   "source": [
    "面试题57 - II. 和为s的连续正数序列\n",
    "\n",
    "输入一个正整数 target ，输出所有和为 target 的连续正整数序列（至少含有两个数）。\n",
    "\n",
    "序列内的数字由小到大排列，不同序列按照首个数字从小到大排列。\n",
    "\n",
    "示例 1：\n",
    "输入：target = 9\n",
    "输出：[[2,3,4],[4,5]]\n",
    "\n",
    "示例 2：\n",
    "输入：target = 15\n",
    "输出：[[1,2,3,4,5],[4,5,6],[7,8]]\n",
    " \n",
    "限制：\n",
    "1 <= target <= 10^5"
   ]
  },
  {
   "cell_type": "code",
   "execution_count": 16,
   "metadata": {},
   "outputs": [
    {
     "name": "stdout",
     "output_type": "stream",
     "text": [
      "[[2, 3, 4], [4, 5]]\n"
     ]
    }
   ],
   "source": [
    "# 滑动窗口解法\n",
    "class Solution:\n",
    "    def findContinuousSequence(self, target):\n",
    "        i = 1 # 滑动窗口的左边界\n",
    "        j = 1 # 滑动窗口的右边界\n",
    "        sum = 0 # 滑动窗口中数字的和\n",
    "        result = []\n",
    "        while i <= target // 2:\n",
    "            if sum < target:\n",
    "                # 右边界向右移动\n",
    "                sum += j\n",
    "                j += 1\n",
    "            elif sum > target:\n",
    "                # 左边界向右移动\n",
    "                sum -= i\n",
    "                i += 1\n",
    "            else:\n",
    "                arr = list(range(i, j))\n",
    "                result.append(arr)\n",
    "                # 左边界向右移动\n",
    "                sum -= i\n",
    "                i += 1\n",
    "\n",
    "        return result\n",
    "\n",
    "obj = Solution()\n",
    "obj.findContinuousSequence(9)"
   ]
  },
  {
   "cell_type": "markdown",
   "metadata": {},
   "source": [
    "面试题58 - I. 翻转单词顺序\n",
    "\n",
    "输入一个英文句子，翻转句子中单词的顺序，但单词内字符的顺序不变。为简单起见，标点符号和普通字母一样处理。例如输入字符串\"I am a student. \"，则输出\"student. a am I\"。\n",
    "\n",
    "示例 1：\n",
    "输入: \"the sky is blue\"\n",
    "输出: \"blue is sky the\"\n",
    "    \n",
    "示例 2：\n",
    "输入: \"  hello world!  \"\n",
    "输出: \"world! hello\"\n",
    "解释: 输入字符串可以在前面或者后面包含多余的空格，但是反转后的字符不能包括。\n",
    "\n",
    "示例 3：\n",
    "输入: \"a good   example\"\n",
    "输出: \"example good a\"\n",
    "解释: 如果两个单词间有多余的空格，将反转后单词间的空格减少到只含一个。\n",
    " \n",
    "说明：\n",
    "无空格字符构成一个单词。\n",
    "输入字符串可以在前面或者后面包含多余的空格，但是反转后的字符不能包括。\n",
    "如果两个单词间有多余的空格，将反转后单词间的空格减少到只含一个。\n"
   ]
  },
  {
   "cell_type": "code",
   "execution_count": 18,
   "metadata": {},
   "outputs": [
    {
     "data": {
      "text/plain": [
       "'blue is sky the'"
      ]
     },
     "execution_count": 18,
     "metadata": {},
     "output_type": "execute_result"
    }
   ],
   "source": [
    "# 调用python自带reversed函数实现\n",
    "class Solution:\n",
    "    def reverseWords(self, s):\n",
    "        return ' '.join(reversed(s.split()))\n",
    "    \n",
    "obj = Solution()\n",
    "obj.reverseWords('the sky is blue')"
   ]
  },
  {
   "cell_type": "code",
   "execution_count": 19,
   "metadata": {},
   "outputs": [
    {
     "data": {
      "text/plain": [
       "'blue is sky the'"
      ]
     },
     "execution_count": 19,
     "metadata": {},
     "output_type": "execute_result"
    }
   ],
   "source": [
    "# 运用底层算法实现\n",
    "class Solution:\n",
    "    def reverseWords(self, s):\n",
    "        s = s.strip() # 删除空格\n",
    "        i = j = len(s) - 1\n",
    "        res = []\n",
    "        while i >= 0:\n",
    "            while i >= 0 and s[i] != ' ': \n",
    "                i -= 1 # 搜索首个空格\n",
    "            res.append(s[i + 1: j + 1]) # 添加单词\n",
    "            while s[i] == ' ': i -= 1 # 跳过单词间空格\n",
    "            j = i # j 指向下个单词的尾字符\n",
    "        return ' '.join(res) # 拼接并返回\n",
    "    \n",
    "obj = Solution()\n",
    "obj.reverseWords('the sky is blue')"
   ]
  },
  {
   "cell_type": "markdown",
   "metadata": {},
   "source": [
    "面试题58 - II. 左旋转字符串\n",
    "\n",
    "字符串的左旋转操作是把字符串前面的若干个字符转移到字符串的尾部。请定义一个函数实现字符串左旋转操作的功能。比如，输入字符串\"abcdefg\"和数字2，该函数将返回左旋转两位得到的结果\"cdefgab\"。\n",
    "\n",
    "示例 1：\n",
    "输入: s = \"abcdefg\", k = 2\n",
    "输出: \"cdefgab\"\n",
    "\n",
    "示例 2：\n",
    "输入: s = \"lrloseumgh\", k = 6\n",
    "输出: \"umghlrlose\"\n",
    " \n",
    "限制：\n",
    "1 <= k < s.length <= 10000"
   ]
  },
  {
   "cell_type": "code",
   "execution_count": 23,
   "metadata": {},
   "outputs": [
    {
     "data": {
      "text/plain": [
       "'cdefgab'"
      ]
     },
     "execution_count": 23,
     "metadata": {},
     "output_type": "execute_result"
    }
   ],
   "source": [
    "class Solution:\n",
    "    def reverseLeftWords(self, s: str, n: int) -> str:\n",
    "        l = s[0:n]\n",
    "        r =s[n:]\n",
    "        return r+l\n",
    "\n",
    "obj = Solution()\n",
    "obj.reverseLeftWords('abcdefg',2)"
   ]
  },
  {
   "cell_type": "markdown",
   "metadata": {},
   "source": [
    "面试题59 - I. 滑动窗口的最大值\n",
    "\n",
    "给定一个数组 nums 和滑动窗口的大小 k，请找出所有滑动窗口里的最大值。\n",
    "\n",
    "示例:\n",
    "输入: nums = [1,3,-1,-3,5,3,6,7], 和 k = 3\n",
    "输出: [3,3,5,5,6,7] \n",
    "\n",
    "解释:\n",
    "\n",
    " 滑动窗口的位置                最大值\n",
    "\n",
    "[1  3  -1] -3  5  3  6  7       3\n",
    "\n",
    " 1 [3  -1  -3] 5  3  6  7       3\n",
    " \n",
    " 1  3 [-1  -3  5] 3  6  7       5\n",
    " \n",
    " 1  3  -1 [-3  5  3] 6  7       5\n",
    " \n",
    " 1  3  -1  -3 [5  3  6] 7       6\n",
    " \n",
    " 1  3  -1  -3  5 [3  6  7]      7\n",
    " \n",
    "提示：\n",
    "你可以假设 k 总是有效的，在输入数组不为空的情况下，1 ≤ k ≤ 输入数组的大小。\n"
   ]
  },
  {
   "cell_type": "code",
   "execution_count": null,
   "metadata": {},
   "outputs": [],
   "source": []
  }
 ],
 "metadata": {
  "kernelspec": {
   "display_name": "Python 3",
   "language": "python",
   "name": "python3"
  },
  "language_info": {
   "codemirror_mode": {
    "name": "ipython",
    "version": 3
   },
   "file_extension": ".py",
   "mimetype": "text/x-python",
   "name": "python",
   "nbconvert_exporter": "python",
   "pygments_lexer": "ipython3",
   "version": "3.7.3"
  }
 },
 "nbformat": 4,
 "nbformat_minor": 2
}
