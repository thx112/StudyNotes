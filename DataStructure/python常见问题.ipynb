{
 "cells": [
  {
   "cell_type": "code",
   "execution_count": 2,
   "metadata": {},
   "outputs": [
    {
     "name": "stdout",
     "output_type": "stream",
     "text": [
      "1\n",
      "(2, 3, 4, 5)\n"
     ]
    }
   ],
   "source": [
    "'''位置参数*args和关键字参数**kwargs'''\n",
    "def func(x,*args):\n",
    "\tprint(x)\n",
    "\tprint(args)\n",
    " \n",
    "func(1,2,3,4,5) #1->x  2,3,4,5->args"
   ]
  },
  {
   "cell_type": "code",
   "execution_count": 4,
   "metadata": {},
   "outputs": [
    {
     "name": "stdout",
     "output_type": "stream",
     "text": [
      "x =  1\n",
      "y =  2\n",
      "args =  (3, 4, 5)\n"
     ]
    }
   ],
   "source": [
    "#位置参数、默认参数、*args\n",
    "def func(x,y=1,*args):\n",
    "\tprint('x = ',x)\n",
    "\tprint('y = ',y)\n",
    "\tprint('args = ',args)\n",
    " \n",
    "func(1,2,3,4,5) #1->x  2->y  3,4,5->args"
   ]
  },
  {
   "cell_type": "code",
   "execution_count": 5,
   "metadata": {},
   "outputs": [
    {
     "name": "stdout",
     "output_type": "stream",
     "text": [
      "x =  1\n",
      "args =  (2, 3, 4, 5)\n",
      "y =  1\n"
     ]
    }
   ],
   "source": [
    "#位置参数、*args、默认参数\n",
    "def func(x,*args,y=1):\n",
    "\tprint('x = ',x)\n",
    "\tprint('args = ',args)\n",
    "\tprint('y = ',y)\n",
    " \n",
    "func(1,2,3,4,5) #1->x  2,3,4,5->args  1->y"
   ]
  },
  {
   "cell_type": "code",
   "execution_count": 6,
   "metadata": {},
   "outputs": [
    {
     "name": "stdout",
     "output_type": "stream",
     "text": [
      "{'kwargs_1': 'Shark', 'kwargs_2': 4.5, 'kwargs_3': True}\n"
     ]
    }
   ],
   "source": [
    "def print_kwargs(**kwargs):\n",
    "    print(kwargs)\n",
    " \n",
    "print_kwargs(kwargs_1=\"Shark\", kwargs_2=4.5, kwargs_3=True)"
   ]
  },
  {
   "cell_type": "code",
   "execution_count": 9,
   "metadata": {},
   "outputs": [
    {
     "name": "stdout",
     "output_type": "stream",
     "text": [
      "x =  1\n",
      "args =  (2, 3, 4)\n",
      "kwargs =  {'y': 1, 'a': 2, 'b': 3, 'c': 4}\n"
     ]
    }
   ],
   "source": [
    "def func(x,*args,**kwargs):\n",
    "\tprint('x = ',x)\n",
    "\tprint('args = ',args)\n",
    "\tprint('kwargs = ',kwargs)\n",
    " \n",
    "func(1,2,3,4,y=1,a=2,b=3,c=4) "
   ]
  },
  {
   "cell_type": "code",
   "execution_count": 10,
   "metadata": {},
   "outputs": [
    {
     "name": "stdout",
     "output_type": "stream",
     "text": [
      "x =  1\n",
      "y =  1\n",
      "kwargs =  {'a': 2, 'b': 3, 'c': 4}\n"
     ]
    }
   ],
   "source": [
    "def func(x,y=2,**kwargs):\n",
    "\tprint('x = ',x)\n",
    "\tprint('y = ',y)\n",
    "\tprint('kwargs = ',kwargs)\n",
    " \n",
    "func(1,y=1,a=2,b=3,c=4)"
   ]
  },
  {
   "cell_type": "code",
   "execution_count": 17,
   "metadata": {},
   "outputs": [
    {
     "name": "stdout",
     "output_type": "stream",
     "text": [
      "1\n",
      "4\n",
      "9\n",
      "16\n",
      "25\n",
      "36\n",
      "49\n"
     ]
    }
   ],
   "source": [
    "'''实现一个生成器'''\n",
    "def squares(n):\n",
    "    i=1\n",
    "    while(i<=n):\n",
    "        yield i**2\n",
    "        i+=1\n",
    "for i in squares(7):\n",
    "    print(i)"
   ]
  },
  {
   "cell_type": "code",
   "execution_count": 20,
   "metadata": {},
   "outputs": [
    {
     "name": "stdout",
     "output_type": "stream",
     "text": [
      "1\n",
      "3\n"
     ]
    }
   ],
   "source": [
    "'''迭代器'''\n",
    "odds=iter([1,3,5,7,9])\n",
    "print(next(odds))\n",
    "print(next(odds))"
   ]
  },
  {
   "cell_type": "code",
   "execution_count": 24,
   "metadata": {},
   "outputs": [
    {
     "name": "stdout",
     "output_type": "stream",
     "text": [
      "[('a', 1), ('b', 2), ('c', 3)]\n",
      "[('a', 1), ('b', 2), ('c', 3)]\n"
     ]
    }
   ],
   "source": [
    "'''zip()可以返回元组的迭代器'''\n",
    "print(list(zip(['a','b','c'],[1,2,3])))\n",
    "print(list(zip(('a','b','c'),(1,2,3))))"
   ]
  },
  {
   "cell_type": "code",
   "execution_count": null,
   "metadata": {},
   "outputs": [],
   "source": []
  }
 ],
 "metadata": {
  "kernelspec": {
   "display_name": "Python 3",
   "language": "python",
   "name": "python3"
  },
  "language_info": {
   "codemirror_mode": {
    "name": "ipython",
    "version": 3
   },
   "file_extension": ".py",
   "mimetype": "text/x-python",
   "name": "python",
   "nbconvert_exporter": "python",
   "pygments_lexer": "ipython3",
   "version": "3.7.3"
  }
 },
 "nbformat": 4,
 "nbformat_minor": 2
}
