{
 "cells": [
  {
   "cell_type": "code",
   "execution_count": 1,
   "metadata": {},
   "outputs": [
    {
     "name": "stdout",
     "output_type": "stream",
     "text": [
      "[-65, -1, 0, 2, 3, 5, 6, 78, 9, 12]\n"
     ]
    }
   ],
   "source": [
    "'''快速排序'''\n",
    "def qsort(seq):\n",
    "    if seq==[]:\n",
    "        return []\n",
    "    else:\n",
    "        pivot=seq[0]\n",
    "        lesser=qsort([x for x in seq[1:] if x<pivot])\n",
    "        greater=[x for x in seq[1:] if x>=pivot]\n",
    "        return lesser+[pivot]+greater\n",
    "seq=[5,6,78,9,0,-1,2,3,-65,12]\n",
    "print(qsort(seq))"
   ]
  },
  {
   "cell_type": "code",
   "execution_count": 2,
   "metadata": {},
   "outputs": [
    {
     "name": "stdout",
     "output_type": "stream",
     "text": [
      "[1, 2, 3, 5, 6, 8, 45]\n"
     ]
    }
   ],
   "source": [
    "'''冒泡排序'''        \n",
    "def bubbleSort(nums):\n",
    "    for i in range(len(nums)-1):    # 这个循环负责设置冒泡排序进行的次数\n",
    "        for j in range(len(nums)-i-1):  # ｊ为列表下标\n",
    "            if nums[j] > nums[j+1]:\n",
    "                nums[j], nums[j+1] = nums[j+1], nums[j]\n",
    "    return nums\n",
    "nums = [5,2,45,6,8,3,1]\n",
    "print(bubbleSort(nums))"
   ]
  },
  {
   "cell_type": "code",
   "execution_count": 4,
   "metadata": {},
   "outputs": [
    {
     "name": "stdout",
     "output_type": "stream",
     "text": [
      "[17, 20, 31, 44, 54, 55, 77, 93, 226]\n"
     ]
    }
   ],
   "source": [
    "'''选择排序'''\n",
    "# 简单选择排序\n",
    "def select_sort(L):\n",
    "#依次遍历序列中的每一个元素\n",
    "    for x in range(0,len(L)):\n",
    "#将当前位置的元素定义此轮循环当中的最小值\n",
    "        minimum = L[x]\n",
    "#将该元素与剩下的元素依次比较寻找最小元素\n",
    "        for i in range(x+1,len(L)):\n",
    "            if L[i] < minimum:\n",
    "                temp = L[i];\n",
    "                L[i] = minimum;\n",
    "                minimum = temp\n",
    "#将比较后得到的真正的最小值赋值给当前位置\n",
    "        L[x] = minimum\n",
    "    return L\n",
    "alist = [54,226,93,17,77,31,44,55,20]\n",
    "print(select_sort(alist))"
   ]
  },
  {
   "cell_type": "code",
   "execution_count": 3,
   "metadata": {},
   "outputs": [
    {
     "data": {
      "text/plain": [
       "[17, 20, 26, 31, 44, 54, 55, 77, 93]"
      ]
     },
     "execution_count": 3,
     "metadata": {},
     "output_type": "execute_result"
    }
   ],
   "source": [
    "'''堆排序'''\n",
    "def swap(data, root, last):\n",
    "    data[root], data[last] = data[last], data[root]\n",
    "\n",
    "#调整父节点 与孩子大小， 制作大顶堆\n",
    "def adjust_heap(data, par_node, high):\n",
    "\n",
    "    new_par_node = par_node\n",
    "    j = 2*par_node +1   #取根节点的左孩子， 如果只有一个孩子 high就是左孩子，如果有两个孩子 high 就是右孩子\n",
    "\n",
    "    while j <= high: #如果 j = high 说明没有右孩子，high就是左孩子\n",
    "        if j < high and data[j] < data[j+1]: #如果这儿不判断 j < high 可能超出索引\n",
    "            # 一个根节点下，如果有两个孩子，将 j  指向值大的那个孩子\n",
    "            j += 1\n",
    "        if data[j] > data[new_par_node]: #如果子节点值大于父节点，就互相交换\n",
    "            data[new_par_node], data[j] = data[j], data[new_par_node]\n",
    "            new_par_node = j #将当前节点，作为父节点，查找他的子树\n",
    "            j = j * 2 + 1\n",
    "\n",
    "        else:\n",
    "            # 因为调整是从上到下，所以下面的所有子树肯定是排序好了的，\n",
    "            #如果调整的父节点依然比下面最大的子节点大，就直接打断循环，堆已经调整好了的\n",
    "            break\n",
    "\n",
    "# 索引计算: 0 -->1 --->....\n",
    "#    父节点 i   左子节点：2i +1  右子节点：2i +2  注意：当用长度表示最后一个叶子节点时 记得 -1\n",
    "#    即 2i + 1 = length - 1 或者 2i + 2 = length - 1\n",
    "#    2i+1 + 1 = length 或 2i+2 + 1 = length\n",
    "#    2(i+1)=length 或 2(i+1）+1 = length\n",
    "#    设j = i+1  则左子节点(偶数)：2j = length 和 右子节点(基数)：2j+1 = length\n",
    "#    2j//2 = j == (2j+1)//2 这两个的整除是一样的，所以使用length//2 = j 然后 i + 1 = j\n",
    "#    i = j-1  = length//2 -1  #注意左子节点:2i+1 //2 =i  而右子节点：(2i+2)//2 = i+1 \n",
    "\n",
    "# 从第一个非叶子节点(即最后一个父节点)开始，即 list_.length//2 -1（len(list_)//2 - 1）\n",
    "\n",
    "# 开始循环到 root 索引为：0 的第一个根节点， 将所有的根-叶子 调整好，成为一个 大顶堆\n",
    "def heap_sort(lst):\n",
    "    \"\"\"\n",
    "    根据列表长度，找到最后一个非叶子节点，开始循化到 root 根节点，制作 大顶堆\n",
    "    :param lst: 将列表传入\n",
    "    :return:\n",
    "    \"\"\"\n",
    "    length = len(lst)\n",
    "    last = length -1  #最后一个元素的 索引\n",
    "    last_par_node = length//2 -1\n",
    "\n",
    "    while last_par_node >= 0:\n",
    "\n",
    "        adjust_heap(lst, last_par_node, length-1)\n",
    "        last_par_node -= 1  #每调整好一个节点，从后往前移动一个节点\n",
    "\n",
    "    # return lst\n",
    "\n",
    "    while last > 0:\n",
    "        #swap(lst, 0, last)\n",
    "        lst[0], lst[last] = lst[last],lst[0]\n",
    "        # 调整堆让 adjust 处理，最后已经排好序的数，就不处理了\n",
    "        adjust_heap(lst, 0, last-1)\n",
    "        last -= 1\n",
    "\n",
    "    return lst #将列表返回\n",
    "\n",
    "alist = [54,26,93,17,77,31,44,55,20]\n",
    "heap_sort(alist)"
   ]
  },
  {
   "cell_type": "code",
   "execution_count": 2,
   "metadata": {},
   "outputs": [
    {
     "data": {
      "text/plain": [
       "[17, 20, 26, 31, 44, 54, 55, 77, 93]"
      ]
     },
     "execution_count": 2,
     "metadata": {},
     "output_type": "execute_result"
    }
   ],
   "source": [
    "'''直接插入排序'''\n",
    "def insert_sort(alist):\n",
    "    # 从第二个位置，即下标为1的元素开始向前插入\n",
    "    for i in range(1, len(alist)):\n",
    "        # 从第i个元素开始向前比较，如果小于前一个元素，交换位置\n",
    "        for j in range(i, 0, -1):\n",
    "            if alist[j] < alist[j-1]:\n",
    "                alist[j], alist[j-1] = alist[j-1], alist[j]\n",
    "    return alist\n",
    "\n",
    "alist = [54,26,93,17,77,31,44,55,20]\n",
    "insert_sort(alist)\n",
    "#print(insert_sort(alist))"
   ]
  },
  {
   "cell_type": "code",
   "execution_count": 28,
   "metadata": {},
   "outputs": [
    {
     "name": "stdout",
     "output_type": "stream",
     "text": [
      "[17, 20, 31, 44, 54, 55, 77, 93, 226]\n"
     ]
    }
   ],
   "source": [
    "'''希尔排序'''\n",
    "def insert_shell(L):\n",
    "    #初始化gap值，此处利用序列长度的一般为其赋值\n",
    "    gap = int((len(L)/2))\n",
    "    #第一层循环：依次改变gap值对列表进行分组\n",
    "    while (gap >= 1):\n",
    "    #下面：利用直接插入排序的思想对分组数据进行排序\n",
    "    #range(gap,len(L)):从gap开始\n",
    "        for x in range(gap,len(L)):\n",
    "    #range(x-gap,-1,-gap):从x-gap开始与选定元素开始倒序比较，每个比较元素之间间隔gap\n",
    "            for i in range(x-gap,-1,-gap):\n",
    "    #如果该组当中两个元素满足交换条件，则进行交换\n",
    "                if L[i] > L[i+gap]:\n",
    "                    temp = L[i+gap]\n",
    "                    L[i+gap] = L[i]\n",
    "                    L[i] =temp\n",
    "    #while循环条件折半\n",
    "        gap = (int)(gap/2)\n",
    "    return L\n",
    "alist = [54,226,93,17,77,31,44,55,20]\n",
    "#insert_shell(alist)\n",
    "print(insert_shell(alist))"
   ]
  },
  {
   "cell_type": "code",
   "execution_count": 32,
   "metadata": {},
   "outputs": [
    {
     "name": "stdout",
     "output_type": "stream",
     "text": [
      "[17, 20, 26, 31, 44, 54, 55, 77, 93]\n"
     ]
    }
   ],
   "source": [
    "'''归并排序'''\n",
    "def merge_sort(alist):\n",
    "    if len(alist) <= 1:\n",
    "        return alist\n",
    "    # 二分分解\n",
    "    num = int(len(alist)/2)\n",
    "    #print(num)\n",
    "    left = merge_sort(alist[:num])\n",
    "    right = merge_sort(alist[num:])\n",
    "    # 合并\n",
    "    #print(merge(left,right))\n",
    "    return merge(left,right)\n",
    "\n",
    "def merge(left, right):\n",
    "\n",
    "    '''合并操作，将两个有序数组left[]和right[]合并成一个大的有序数组'''\n",
    "    #left与right的下标指针\n",
    "    l, r = 0, 0\n",
    "    result = []\n",
    "    while l<len(left) and r<len(right):\n",
    "        if left[l] < right[r]:\n",
    "            result.append(left[l])\n",
    "            l += 1\n",
    "        else:\n",
    "            result.append(right[r])\n",
    "            r += 1\n",
    "    result += left[l:]\n",
    "    result += right[r:]\n",
    "    return result\n",
    "\n",
    "alist = [54,26,93,17,77,31,44,55,20]\n",
    "\n",
    "print(merge_sort(alist))"
   ]
  },
  {
   "cell_type": "code",
   "execution_count": 41,
   "metadata": {},
   "outputs": [
    {
     "name": "stdout",
     "output_type": "stream",
     "text": [
      "[[], [1], [], [23, 3453], [334, 4, 23424], [5, 345, 345345, 45], [], [67, 7], [78], [99]]\n",
      "[[1, 4, 5, 7], [], [23, 23424], [334], [345, 345345, 45], [3453], [67], [78], [], [99]]\n",
      "[[1, 4, 5, 7, 23, 45, 67, 78, 99], [], [], [334, 345, 345345], [23424, 3453], [], [], [], [], []]\n",
      "[[1, 4, 5, 7, 23, 45, 67, 78, 99, 334, 345], [], [], [23424, 3453], [], [345345], [], [], [], []]\n",
      "[[1, 4, 5, 7, 23, 45, 67, 78, 99, 334, 345, 3453], [], [23424], [], [345345], [], [], [], [], []]\n",
      "[[1, 4, 5, 7, 23, 45, 67, 78, 99, 334, 345, 3453, 23424], [], [], [345345], [], [], [], [], [], []]\n"
     ]
    },
    {
     "data": {
      "text/plain": [
       "[1, 4, 5, 7, 23, 45, 67, 78, 99, 334, 345, 3453, 23424, 345345]"
      ]
     },
     "execution_count": 41,
     "metadata": {},
     "output_type": "execute_result"
    }
   ],
   "source": [
    "'''基数排序'''\n",
    "def radix_sort(s):\n",
    "    i = 0 # 记录当前正在排拿一位，最低位为1\n",
    "    max_num = max(s)  # 最大值\n",
    "    j = len(str(max_num))  # 记录最大值的位数\n",
    "    while i < j:\n",
    "        bucket_list =[[] for _ in range(10)] #初始化桶数组\n",
    "        #print(bucket_list)\n",
    "        for x in s:\n",
    "            bucket_list[int(x / (10**i)) % 10].append(x) # 找到位置放入桶数组\n",
    "        print(bucket_list)\n",
    "        s.clear()\n",
    "        for x in bucket_list:   # 放回原序列\n",
    "            for y in x:\n",
    "                s.append(y)\n",
    "        i += 1\n",
    "    return s\n",
    "a = [334,5,67,345,7,345345,99,4,23,78,45,1,3453,23424]\n",
    "radix_sort(a)"
   ]
  },
  {
   "cell_type": "code",
   "execution_count": null,
   "metadata": {},
   "outputs": [],
   "source": []
  }
 ],
 "metadata": {
  "kernelspec": {
   "display_name": "Python 3",
   "language": "python",
   "name": "python3"
  },
  "language_info": {
   "codemirror_mode": {
    "name": "ipython",
    "version": 3
   },
   "file_extension": ".py",
   "mimetype": "text/x-python",
   "name": "python",
   "nbconvert_exporter": "python",
   "pygments_lexer": "ipython3",
   "version": "3.7.3"
  }
 },
 "nbformat": 4,
 "nbformat_minor": 2
}
