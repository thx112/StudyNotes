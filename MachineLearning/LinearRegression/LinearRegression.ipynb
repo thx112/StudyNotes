{
 "cells": [
  {
   "cell_type": "markdown",
   "metadata": {},
   "source": [
    "![title](linear.jpg)"
   ]
  },
  {
   "cell_type": "markdown",
   "metadata": {},
   "source": [
    "### 回归模型主题"
   ]
  },
  {
   "cell_type": "code",
   "execution_count": 1,
   "metadata": {},
   "outputs": [],
   "source": [
    "import numpy as np\n",
    "\n",
    "def linear_loss(X, y, w, b):\n",
    "    num_train = X.shape[0]\n",
    "    num_feature = X.shape[1]    \n",
    "    # 模型公式\n",
    "    y_hat = np.dot(X, w) + b    \n",
    "    # 损失函数\n",
    "    loss = np.sum((y_hat-y)**2)/num_train    \n",
    "    # 参数的偏导\n",
    "    dw = np.dot(X.T, (y_hat-y)) /num_train\n",
    "    db = np.sum((y_hat-y)) /num_train    \n",
    "    return y_hat, loss, dw, db"
   ]
  },
  {
   "cell_type": "markdown",
   "metadata": {},
   "source": [
    "### 初始化参数"
   ]
  },
  {
   "cell_type": "code",
   "execution_count": 2,
   "metadata": {},
   "outputs": [],
   "source": [
    "def init_params(dim):\n",
    "    w = np.zeros((dim, 1))\n",
    "    b = 0\n",
    "    return w, b"
   ]
  },
  {
   "cell_type": "markdown",
   "metadata": {},
   "source": [
    "### 基于梯度下降的模型训练过程"
   ]
  },
  {
   "cell_type": "code",
   "execution_count": 4,
   "metadata": {},
   "outputs": [],
   "source": [
    "def linar_train(X, y, learning_rate, epochs):\n",
    "    w, b = init_params(X.shape[1])  \n",
    "    loss_list = []  \n",
    "    for i in range(1, epochs):        \n",
    "    # 计算当前预测值、损失和参数偏导\n",
    "        y_hat, loss, dw, db = linear_loss(X, y, w, b)  \n",
    "        loss_list.append(loss)      \n",
    "        # 基于梯度下降的参数更新过程\n",
    "        w += -learning_rate * dw\n",
    "        b += -learning_rate * db        \n",
    "        # 打印迭代次数和损失\n",
    "\n",
    "        if i % 10000 == 0:\n",
    "            print('epoch %d loss %f' % (i, loss)) \n",
    "               \n",
    "        # 保存参数\n",
    "        params = {            \n",
    "            'w': w,            \n",
    "            'b': b\n",
    "        }        \n",
    "        \n",
    "        # 保存梯度\n",
    "        grads = {            \n",
    "            'dw': dw,            \n",
    "            'db': db\n",
    "        }    \n",
    "            \n",
    "    return loss_list, loss, params, grads"
   ]
  },
  {
   "cell_type": "code",
   "execution_count": 7,
   "metadata": {},
   "outputs": [
    {
     "name": "stdout",
     "output_type": "stream",
     "text": [
      "X_train= (21, 1)\n",
      "X_test= (9, 1)\n",
      "y_train= (21, 1)\n",
      "y_test= (9, 1)\n"
     ]
    }
   ],
   "source": [
    "import pandas as pd\n",
    "from sklearn.model_selection import train_test_split\n",
    "\n",
    "dataset = pd.read_csv('Linear_Salary_Data.csv')\n",
    "X = dataset.iloc[:,0].values \n",
    "Y = dataset.iloc[:,-1].values\n",
    "\n",
    "#将数据分成训练集和测试集，训练集用于训练模型，测试集用于测试训练的模型的效果\n",
    "X_train,X_test,y_train,y_test = train_test_split(X,Y,test_size = 0.3,random_state = 0)\n",
    "X_train = X_train.reshape((-1,1))\n",
    "y_train = y_train.reshape((-1,1))\n",
    "X_test = X_test.reshape((-1,1))\n",
    "y_test = y_test.reshape((-1,1))\n",
    "\n",
    "print('X_train=', X_train.shape)\n",
    "print('X_test=', X_test.shape)\n",
    "print('y_train=', y_train.shape)\n",
    "print('y_test=', y_test.shape)"
   ]
  },
  {
   "cell_type": "markdown",
   "metadata": {},
   "source": [
    "### 执行训练"
   ]
  },
  {
   "cell_type": "code",
   "execution_count": 8,
   "metadata": {},
   "outputs": [
    {
     "name": "stdout",
     "output_type": "stream",
     "text": [
      "epoch 10000 loss 37065403.474487\n",
      "epoch 20000 loss 35145073.331419\n",
      "epoch 30000 loss 35116465.264899\n",
      "epoch 40000 loss 35116039.077000\n",
      "epoch 50000 loss 35116032.727877\n",
      "epoch 60000 loss 35116032.633291\n",
      "epoch 70000 loss 35116032.631882\n",
      "epoch 80000 loss 35116032.631861\n",
      "epoch 90000 loss 35116032.631861\n"
     ]
    }
   ],
   "source": [
    "loss_list, loss, params, grads = linar_train(X_train, y_train, 0.001, 100000)"
   ]
  },
  {
   "cell_type": "markdown",
   "metadata": {},
   "source": [
    "### 定义一个预测函数对测试集结果进行预测"
   ]
  },
  {
   "cell_type": "code",
   "execution_count": 9,
   "metadata": {},
   "outputs": [
    {
     "data": {
      "text/plain": [
       "array([[ 40817.7832568 ],\n",
       "       [123188.08260103],\n",
       "       [ 65154.46260851],\n",
       "       [ 63282.41035069],\n",
       "       [115699.87356974]])"
      ]
     },
     "execution_count": 9,
     "metadata": {},
     "output_type": "execute_result"
    }
   ],
   "source": [
    "def predict(X, params):\n",
    "    w = params['w']\n",
    "    b = params['b']\n",
    "\n",
    "    y_pred = np.dot(X, w) + b    \n",
    "    return y_pred\n",
    "\n",
    "y_pred = predict(X_test, params)\n",
    "y_pred[:5]"
   ]
  },
  {
   "cell_type": "markdown",
   "metadata": {},
   "source": [
    "### 利用 matplotlib 对预测结果和真值进行展示"
   ]
  },
  {
   "cell_type": "code",
   "execution_count": 11,
   "metadata": {},
   "outputs": [
    {
     "data": {
      "image/png": "[encoded data removed]",
      "text/plain": [
       "<Figure size 432x288 with 1 Axes>"
      ]
     },
     "metadata": {
      "needs_background": "light"
     },
     "output_type": "display_data"
    }
   ],
   "source": [
    "import matplotlib.pyplot as plt\n",
    "f = X_test.dot(params['w']) + params['b']\n",
    "\n",
    "plt.scatter(range(X_test.shape[0]), y_test)\n",
    "plt.plot(f, color = 'darkorange')\n",
    "plt.xlabel('X')\n",
    "plt.ylabel('y')\n",
    "plt.show()"
   ]
  },
  {
   "cell_type": "markdown",
   "metadata": {},
   "source": [
    "###  训练过程中损失的下降"
   ]
  },
  {
   "cell_type": "code",
   "execution_count": 12,
   "metadata": {},
   "outputs": [
    {
     "data": {
      "image/png": "[encoded data removed]",
      "text/plain": [
       "<Figure size 432x288 with 1 Axes>"
      ]
     },
     "metadata": {
      "needs_background": "light"
     },
     "output_type": "display_data"
    }
   ],
   "source": [
    "plt.plot(loss_list, color = 'blue')\n",
    "plt.xlabel('epochs')\n",
    "plt.ylabel('loss')\n",
    "plt.show()"
   ]
  },
  {
   "cell_type": "markdown",
   "metadata": {},
   "source": [
    "### #模型评估"
   ]
  },
  {
   "cell_type": "code",
   "execution_count": 13,
   "metadata": {},
   "outputs": [
    {
     "name": "stdout",
     "output_type": "stream",
     "text": [
      "r2_score : 0.9740993407459633\n"
     ]
    }
   ],
   "source": [
    "from sklearn.metrics import r2_score\n",
    "print('r2_score : ' + str(r2_score(y_test,y_pred)))"
   ]
  },
  {
   "cell_type": "code",
   "execution_count": null,
   "metadata": {},
   "outputs": [],
   "source": []
  }
 ],
 "metadata": {
  "kernelspec": {
   "display_name": "Python 3",
   "language": "python",
   "name": "python3"
  },
  "language_info": {
   "codemirror_mode": {
    "name": "ipython",
    "version": 3
   },
   "file_extension": ".py",
   "mimetype": "text/x-python",
   "name": "python",
   "nbconvert_exporter": "python",
   "pygments_lexer": "ipython3",
   "version": "3.7.3"
  }
 },
 "nbformat": 4,
 "nbformat_minor": 2
}
