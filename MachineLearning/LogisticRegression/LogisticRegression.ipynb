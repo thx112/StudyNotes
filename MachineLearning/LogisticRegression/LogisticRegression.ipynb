{
 "cells": [
  {
   "cell_type": "markdown",
   "metadata": {},
   "source": [
    "![title](LogisticRegression.jpg)"
   ]
  },
  {
   "cell_type": "markdown",
   "metadata": {},
   "source": [
    "### 先定义一个 sigmoid 函数"
   ]
  },
  {
   "cell_type": "code",
   "execution_count": 1,
   "metadata": {},
   "outputs": [],
   "source": [
    "import numpy as np\n",
    "def sigmoid(x):   \n",
    "    return 1 / (1 + np.exp(-x)) "
   ]
  },
  {
   "cell_type": "markdown",
   "metadata": {},
   "source": [
    "### 定义模型参数初始化函数"
   ]
  },
  {
   "cell_type": "code",
   "execution_count": 2,
   "metadata": {},
   "outputs": [],
   "source": [
    "def init_params(dim):\n",
    "    W = np.zeros((dim, 1))\n",
    "    b = 0\n",
    "    return W, b"
   ]
  },
  {
   "cell_type": "markdown",
   "metadata": {},
   "source": [
    "### 定义逻辑回归主题函数：模型计算公式、损失函数和参数的梯度公式"
   ]
  },
  {
   "cell_type": "code",
   "execution_count": 3,
   "metadata": {},
   "outputs": [],
   "source": [
    "def logistic(X, y, W, b):\n",
    "    num_train = X.shape[0]\n",
    "    num_feature = X.shape[1]\n",
    "\n",
    "    a = sigmoid(np.dot(X, W) + b)\n",
    "    cost = -1/num_train * np.sum(y*np.log(a) + (1-y)*np.log(1-a))\n",
    "\n",
    "    dW = np.dot(X.T, (a-y))/num_train\n",
    "    db = np.sum(a-y)/num_train\n",
    "    cost = np.squeeze(cost) \n",
    "\n",
    "    return a, cost, dW, db"
   ]
  },
  {
   "cell_type": "markdown",
   "metadata": {},
   "source": [
    "### 定义梯度下降的参数更新过程"
   ]
  },
  {
   "cell_type": "code",
   "execution_count": 4,
   "metadata": {},
   "outputs": [],
   "source": [
    "def logistic_train(X, y, learning_rate, epochs):    \n",
    "    # 初始化模型参数\n",
    "    W, b = init_params(X.shape[1])  \n",
    "    cost_list = []  \n",
    "\n",
    "    # 迭代训练\n",
    "    for i in range(epochs):       \n",
    "        # 计算当前次的模型计算结果、损失和参数梯度\n",
    "        a, cost, dW, db = logistic(X, y, W, b)    \n",
    "        # 参数更新\n",
    "        W = W -learning_rate * dW\n",
    "        b = b -learning_rate * db        \n",
    "\n",
    "        # 记录损失\n",
    "        if i % 100 == 0:\n",
    "            cost_list.append(cost)   \n",
    "        # 打印训练过程中的损失 \n",
    "        if i % 100 == 0:\n",
    "            print('epoch %d cost %f' % (i, cost)) \n",
    "\n",
    "    # 保存参数\n",
    "    params = {            \n",
    "        'W': W,            \n",
    "        'b': b\n",
    "    }        \n",
    "    # 保存梯度\n",
    "    grads = {            \n",
    "        'dW': dW,            \n",
    "        'db': db\n",
    "    }           \n",
    "    return cost_list, params, grads"
   ]
  },
  {
   "cell_type": "markdown",
   "metadata": {},
   "source": [
    "### 定义对测试数据的预测函数"
   ]
  },
  {
   "cell_type": "code",
   "execution_count": 5,
   "metadata": {},
   "outputs": [],
   "source": [
    "def predict(X, params):\n",
    "    y_predic = sigmoid(np.dot(X, params['W']) + params['b']) \n",
    "    print(y.shape)\n",
    "    for i in range(len(y_predic)):        \n",
    "        if y_predic[i] > 0.5:\n",
    "            y_predic[i] = 1\n",
    "        else:\n",
    "            y_predic[i] = 0\n",
    "    return y_predic"
   ]
  },
  {
   "cell_type": "markdown",
   "metadata": {},
   "source": [
    "### 导入数据并处理"
   ]
  },
  {
   "cell_type": "code",
   "execution_count": 6,
   "metadata": {},
   "outputs": [
    {
     "data": {
      "text/plain": [
       "(array([[ 1.0000000e+00, -1.7612000e-02,  1.4053064e+01],\n",
       "        [ 1.0000000e+00, -1.3956340e+00,  4.6625410e+00],\n",
       "        [ 1.0000000e+00, -7.5215700e-01,  6.5386200e+00],\n",
       "        [ 1.0000000e+00, -1.3223710e+00,  7.1528530e+00],\n",
       "        [ 1.0000000e+00,  4.2336300e-01,  1.1054677e+01],\n",
       "        [ 1.0000000e+00,  4.0670400e-01,  7.0673350e+00],\n",
       "        [ 1.0000000e+00,  6.6739400e-01,  1.2741452e+01],\n",
       "        [ 1.0000000e+00, -2.4601500e+00,  6.8668050e+00],\n",
       "        [ 1.0000000e+00,  5.6941100e-01,  9.5487550e+00],\n",
       "        [ 1.0000000e+00, -2.6632000e-02,  1.0427743e+01],\n",
       "        [ 1.0000000e+00,  8.5043300e-01,  6.9203340e+00],\n",
       "        [ 1.0000000e+00,  1.3471830e+00,  1.3175500e+01],\n",
       "        [ 1.0000000e+00,  1.1768130e+00,  3.1670200e+00],\n",
       "        [ 1.0000000e+00, -1.7818710e+00,  9.0979530e+00],\n",
       "        [ 1.0000000e+00, -5.6660600e-01,  5.7490030e+00],\n",
       "        [ 1.0000000e+00,  9.3163500e-01,  1.5895050e+00],\n",
       "        [ 1.0000000e+00, -2.4205000e-02,  6.1518230e+00],\n",
       "        [ 1.0000000e+00, -3.6453000e-02,  2.6909880e+00],\n",
       "        [ 1.0000000e+00, -1.9694900e-01,  4.4416500e-01],\n",
       "        [ 1.0000000e+00,  1.0144590e+00,  5.7543990e+00],\n",
       "        [ 1.0000000e+00,  1.9852980e+00,  3.2306190e+00],\n",
       "        [ 1.0000000e+00, -1.6934530e+00, -5.5754000e-01],\n",
       "        [ 1.0000000e+00, -5.7652500e-01,  1.1778922e+01],\n",
       "        [ 1.0000000e+00, -3.4681100e-01, -1.6787300e+00],\n",
       "        [ 1.0000000e+00, -2.1244840e+00,  2.6724710e+00],\n",
       "        [ 1.0000000e+00,  1.2179160e+00,  9.5970150e+00],\n",
       "        [ 1.0000000e+00, -7.3392800e-01,  9.0986870e+00],\n",
       "        [ 1.0000000e+00, -3.6420010e+00, -1.6180870e+00],\n",
       "        [ 1.0000000e+00,  3.1598500e-01,  3.5239530e+00],\n",
       "        [ 1.0000000e+00,  1.4166140e+00,  9.6192320e+00],\n",
       "        [ 1.0000000e+00, -3.8632300e-01,  3.9892860e+00],\n",
       "        [ 1.0000000e+00,  5.5692100e-01,  8.2949840e+00],\n",
       "        [ 1.0000000e+00,  1.2248630e+00,  1.1587360e+01],\n",
       "        [ 1.0000000e+00, -1.3478030e+00, -2.4060510e+00],\n",
       "        [ 1.0000000e+00,  1.1966040e+00,  4.9518510e+00],\n",
       "        [ 1.0000000e+00,  2.7522100e-01,  9.5436470e+00],\n",
       "        [ 1.0000000e+00,  4.7057500e-01,  9.3324880e+00],\n",
       "        [ 1.0000000e+00, -1.8895670e+00,  9.5426620e+00],\n",
       "        [ 1.0000000e+00, -1.5278930e+00,  1.2150579e+01],\n",
       "        [ 1.0000000e+00, -1.1852470e+00,  1.1309318e+01],\n",
       "        [ 1.0000000e+00, -4.4567800e-01,  3.2973030e+00],\n",
       "        [ 1.0000000e+00,  1.0422220e+00,  6.1051550e+00],\n",
       "        [ 1.0000000e+00, -6.1878700e-01,  1.0320986e+01],\n",
       "        [ 1.0000000e+00,  1.1520830e+00,  5.4846700e-01],\n",
       "        [ 1.0000000e+00,  8.2853400e-01,  2.6760450e+00],\n",
       "        [ 1.0000000e+00, -1.2377280e+00,  1.0549033e+01],\n",
       "        [ 1.0000000e+00, -6.8356500e-01, -2.1661250e+00],\n",
       "        [ 1.0000000e+00,  2.2945600e-01,  5.9219380e+00],\n",
       "        [ 1.0000000e+00, -9.5988500e-01,  1.1555336e+01],\n",
       "        [ 1.0000000e+00,  4.9291100e-01,  1.0993324e+01],\n",
       "        [ 1.0000000e+00,  1.8499200e-01,  8.7214880e+00],\n",
       "        [ 1.0000000e+00, -3.5571500e-01,  1.0325976e+01],\n",
       "        [ 1.0000000e+00, -3.9782200e-01,  8.0583970e+00],\n",
       "        [ 1.0000000e+00,  8.2483900e-01,  1.3730343e+01],\n",
       "        [ 1.0000000e+00,  1.5072780e+00,  5.0278660e+00],\n",
       "        [ 1.0000000e+00,  9.9671000e-02,  6.8358390e+00],\n",
       "        [ 1.0000000e+00, -3.4400800e-01,  1.0717485e+01],\n",
       "        [ 1.0000000e+00,  1.7859280e+00,  7.7186450e+00],\n",
       "        [ 1.0000000e+00, -9.1880100e-01,  1.1560217e+01],\n",
       "        [ 1.0000000e+00, -3.6400900e-01,  4.7473000e+00],\n",
       "        [ 1.0000000e+00, -8.4172200e-01,  4.1190830e+00],\n",
       "        [ 1.0000000e+00,  4.9042600e-01,  1.9605390e+00],\n",
       "        [ 1.0000000e+00, -7.1940000e-03,  9.0757920e+00],\n",
       "        [ 1.0000000e+00,  3.5610700e-01,  1.2447863e+01],\n",
       "        [ 1.0000000e+00,  3.4257800e-01,  1.2281162e+01],\n",
       "        [ 1.0000000e+00, -8.1082300e-01, -1.4660180e+00],\n",
       "        [ 1.0000000e+00,  2.5307770e+00,  6.4768010e+00],\n",
       "        [ 1.0000000e+00,  1.2966830e+00,  1.1607559e+01],\n",
       "        [ 1.0000000e+00,  4.7548700e-01,  1.2040035e+01],\n",
       "        [ 1.0000000e+00, -7.8327700e-01,  1.1009725e+01],\n",
       "        [ 1.0000000e+00,  7.4798000e-02,  1.1023650e+01],\n",
       "        [ 1.0000000e+00, -1.3374720e+00,  4.6833900e-01],\n",
       "        [ 1.0000000e+00, -1.0278100e-01,  1.3763651e+01],\n",
       "        [ 1.0000000e+00, -1.4732400e-01,  2.8748460e+00],\n",
       "        [ 1.0000000e+00,  5.1838900e-01,  9.8870350e+00],\n",
       "        [ 1.0000000e+00,  1.0153990e+00,  7.5718820e+00],\n",
       "        [ 1.0000000e+00, -1.6580860e+00, -2.7255000e-02],\n",
       "        [ 1.0000000e+00,  1.3199440e+00,  2.1712280e+00],\n",
       "        [ 1.0000000e+00,  2.0562160e+00,  5.0199810e+00],\n",
       "        [ 1.0000000e+00, -8.5163300e-01,  4.3756910e+00],\n",
       "        [ 1.0000000e+00, -1.5100470e+00,  6.0619920e+00],\n",
       "        [ 1.0000000e+00, -1.0766370e+00, -3.1818880e+00],\n",
       "        [ 1.0000000e+00,  1.8210960e+00,  1.0283990e+01],\n",
       "        [ 1.0000000e+00,  3.0101500e+00,  8.4017660e+00],\n",
       "        [ 1.0000000e+00, -1.0994580e+00,  1.6882740e+00],\n",
       "        [ 1.0000000e+00, -8.3487200e-01, -1.7338690e+00],\n",
       "        [ 1.0000000e+00, -8.4663700e-01,  3.8490750e+00],\n",
       "        [ 1.0000000e+00,  1.4001020e+00,  1.2628781e+01],\n",
       "        [ 1.0000000e+00,  1.7528420e+00,  5.4681660e+00],\n",
       "        [ 1.0000000e+00,  7.8557000e-02,  5.9736000e-02],\n",
       "        [ 1.0000000e+00,  8.9392000e-02, -7.1530000e-01],\n",
       "        [ 1.0000000e+00,  1.8256620e+00,  1.2693808e+01],\n",
       "        [ 1.0000000e+00,  1.9744500e-01,  9.7446380e+00],\n",
       "        [ 1.0000000e+00,  1.2611700e-01,  9.2231100e-01],\n",
       "        [ 1.0000000e+00, -6.7979700e-01,  1.2205300e+00],\n",
       "        [ 1.0000000e+00,  6.7798300e-01,  2.5566660e+00],\n",
       "        [ 1.0000000e+00,  7.6134900e-01,  1.0693862e+01],\n",
       "        [ 1.0000000e+00, -2.1687910e+00,  1.4363200e-01],\n",
       "        [ 1.0000000e+00,  1.3886100e+00,  9.3419970e+00],\n",
       "        [ 1.0000000e+00,  3.1702900e-01,  1.4739025e+01]]),\n",
       " array([0., 1., 0., 0., 0., 1., 0., 1., 0., 0., 1., 0., 1., 0., 1., 1., 1.,\n",
       "        1., 1., 1., 1., 1., 0., 1., 1., 0., 0., 1., 1., 0., 1., 1., 0., 1.,\n",
       "        1., 0., 0., 0., 0., 0., 1., 1., 0., 1., 1., 0., 1., 1., 0., 0., 0.,\n",
       "        0., 0., 0., 1., 1., 0., 1., 0., 1., 1., 1., 0., 0., 0., 1., 1., 0.,\n",
       "        0., 0., 0., 1., 0., 1., 0., 0., 1., 1., 1., 1., 0., 1., 0., 1., 1.,\n",
       "        1., 1., 0., 1., 1., 1., 0., 0., 1., 1., 1., 0., 1., 0., 0.]))"
      ]
     },
     "execution_count": 6,
     "metadata": {},
     "output_type": "execute_result"
    }
   ],
   "source": [
    "def init_data():\n",
    "    data = np.loadtxt('LogisticRegression.csv')\n",
    "    dataMatIn = data[:, 0:-1]\n",
    "    classLabels = data[:, -1]\n",
    "    dataMatIn = np.insert(dataMatIn, 0, 1, axis=1)  #特征数据集，添加1是构造常数项x0\n",
    "    return dataMatIn, classLabels\n",
    "init_data()"
   ]
  },
  {
   "cell_type": "code",
   "execution_count": 7,
   "metadata": {},
   "outputs": [
    {
     "data": {
      "text/plain": [
       "<Figure size 640x480 with 1 Axes>"
      ]
     },
     "metadata": {},
     "output_type": "display_data"
    }
   ],
   "source": [
    "import matplotlib.pyplot as plt\n",
    "\n",
    "xcord1 = []\n",
    "ycord1 = []\n",
    "xcord2 = []\n",
    "ycord2 = []\n",
    "\n",
    "dataMatIn, classLabels = init_data()\n",
    "n = np.shape(dataMatIn)[0]\n",
    "\n",
    "for i in range(n):\n",
    "    if classLabels[i] == 1:\n",
    "        xcord1.append(dataMatIn[i][1])\n",
    "        ycord1.append(dataMatIn[i][2])\n",
    "    else:\n",
    "        xcord2.append(dataMatIn[i][1])\n",
    "        ycord2.append(dataMatIn[i][2])\n",
    "fig = plt.figure()\n",
    "ax = fig.add_subplot(111)\n",
    "ax.scatter(xcord1, ycord1,s=30, c='red', marker='s')\n",
    "ax.scatter(xcord2, ycord2, s=30, c='green')\n",
    "plt.xlabel('x')\n",
    "plt.ylabel('y')\n",
    "plt.show()   "
   ]
  },
  {
   "cell_type": "markdown",
   "metadata": {},
   "source": [
    "### 把数据分为训练集和测试集进行训练"
   ]
  },
  {
   "cell_type": "code",
   "execution_count": 11,
   "metadata": {},
   "outputs": [
    {
     "name": "stdout",
     "output_type": "stream",
     "text": [
      "X_train= (70, 2)\n",
      "X_test= (30, 2)\n",
      "y_train= (70, 1)\n",
      "y_test= (30, 1)\n"
     ]
    }
   ],
   "source": [
    "from sklearn.model_selection import train_test_split\n",
    "X  = dataMatIn[:,1:]\n",
    "y = classLabels\n",
    "X_train,X_test,y_train,y_test = train_test_split(X,y,test_size = 0.3,random_state = 0)\n",
    "\n",
    "y_train = y_train.reshape(-1,1)\n",
    "y_test = y_test.reshape(-1,1)\n",
    "\n",
    "print('X_train=', X_train.shape)\n",
    "print('X_test=', X_test.shape)\n",
    "print('y_train=', y_train.shape)\n",
    "print('y_test=', y_test.shape)"
   ]
  },
  {
   "cell_type": "code",
   "execution_count": 12,
   "metadata": {},
   "outputs": [
    {
     "name": "stdout",
     "output_type": "stream",
     "text": [
      "epoch 0 cost 0.693147\n",
      "epoch 100 cost 0.558587\n",
      "epoch 200 cost 0.519746\n",
      "epoch 300 cost 0.486283\n",
      "epoch 400 cost 0.457314\n",
      "epoch 500 cost 0.432095\n",
      "epoch 600 cost 0.410007\n",
      "epoch 700 cost 0.390541\n",
      "epoch 800 cost 0.373281\n",
      "epoch 900 cost 0.357887\n",
      "epoch 1000 cost 0.344080\n",
      "epoch 1100 cost 0.331631\n",
      "epoch 1200 cost 0.320349\n",
      "epoch 1300 cost 0.310078\n",
      "epoch 1400 cost 0.300688\n",
      "epoch 1500 cost 0.292067\n",
      "epoch 1600 cost 0.284123\n",
      "epoch 1700 cost 0.276777\n",
      "epoch 1800 cost 0.269963\n",
      "epoch 1900 cost 0.263622\n",
      "epoch 2000 cost 0.257705\n",
      "epoch 2100 cost 0.252169\n",
      "epoch 2200 cost 0.246977\n",
      "epoch 2300 cost 0.242096\n",
      "epoch 2400 cost 0.237498\n",
      "epoch 2500 cost 0.233158\n",
      "epoch 2600 cost 0.229052\n",
      "epoch 2700 cost 0.225162\n",
      "epoch 2800 cost 0.221470\n",
      "epoch 2900 cost 0.217960\n",
      "epoch 3000 cost 0.214619\n",
      "epoch 3100 cost 0.211433\n",
      "epoch 3200 cost 0.208391\n",
      "epoch 3300 cost 0.205484\n",
      "epoch 3400 cost 0.202701\n",
      "epoch 3500 cost 0.200034\n",
      "epoch 3600 cost 0.197476\n",
      "epoch 3700 cost 0.195020\n",
      "epoch 3800 cost 0.192659\n",
      "epoch 3900 cost 0.190387\n",
      "epoch 4000 cost 0.188199\n",
      "epoch 4100 cost 0.186090\n",
      "epoch 4200 cost 0.184056\n",
      "epoch 4300 cost 0.182092\n",
      "epoch 4400 cost 0.180195\n",
      "epoch 4500 cost 0.178360\n",
      "epoch 4600 cost 0.176585\n",
      "epoch 4700 cost 0.174866\n",
      "epoch 4800 cost 0.173201\n",
      "epoch 4900 cost 0.171586\n",
      "epoch 5000 cost 0.170020\n",
      "epoch 5100 cost 0.168500\n",
      "epoch 5200 cost 0.167024\n",
      "epoch 5300 cost 0.165589\n",
      "epoch 5400 cost 0.164195\n",
      "epoch 5500 cost 0.162838\n",
      "epoch 5600 cost 0.161518\n",
      "epoch 5700 cost 0.160233\n",
      "epoch 5800 cost 0.158981\n",
      "epoch 5900 cost 0.157762\n",
      "epoch 6000 cost 0.156572\n",
      "epoch 6100 cost 0.155413\n",
      "epoch 6200 cost 0.154281\n",
      "epoch 6300 cost 0.153177\n",
      "epoch 6400 cost 0.152098\n",
      "epoch 6500 cost 0.151045\n",
      "epoch 6600 cost 0.150015\n",
      "epoch 6700 cost 0.149009\n",
      "epoch 6800 cost 0.148026\n",
      "epoch 6900 cost 0.147063\n",
      "epoch 7000 cost 0.146122\n",
      "epoch 7100 cost 0.145201\n",
      "epoch 7200 cost 0.144299\n",
      "epoch 7300 cost 0.143415\n",
      "epoch 7400 cost 0.142550\n",
      "epoch 7500 cost 0.141702\n",
      "epoch 7600 cost 0.140871\n",
      "epoch 7700 cost 0.140057\n",
      "epoch 7800 cost 0.139258\n",
      "epoch 7900 cost 0.138475\n",
      "epoch 8000 cost 0.137706\n",
      "epoch 8100 cost 0.136952\n",
      "epoch 8200 cost 0.136212\n",
      "epoch 8300 cost 0.135485\n",
      "epoch 8400 cost 0.134771\n",
      "epoch 8500 cost 0.134070\n",
      "epoch 8600 cost 0.133382\n",
      "epoch 8700 cost 0.132705\n",
      "epoch 8800 cost 0.132040\n",
      "epoch 8900 cost 0.131386\n",
      "epoch 9000 cost 0.130744\n",
      "epoch 9100 cost 0.130112\n",
      "epoch 9200 cost 0.129490\n",
      "epoch 9300 cost 0.128879\n",
      "epoch 9400 cost 0.128277\n",
      "epoch 9500 cost 0.127686\n",
      "epoch 9600 cost 0.127103\n",
      "epoch 9700 cost 0.126530\n",
      "epoch 9800 cost 0.125965\n",
      "epoch 9900 cost 0.125409\n"
     ]
    }
   ],
   "source": [
    "cost_list, params, grads = logistic_train(X_train, y_train, 0.01, 10000)"
   ]
  },
  {
   "cell_type": "markdown",
   "metadata": {},
   "source": [
    "### 对测试集数据进行预测"
   ]
  },
  {
   "cell_type": "code",
   "execution_count": 13,
   "metadata": {},
   "outputs": [
    {
     "name": "stdout",
     "output_type": "stream",
     "text": [
      "(100,)\n",
      "[[0.]\n",
      " [1.]\n",
      " [0.]\n",
      " [1.]\n",
      " [1.]\n",
      " [1.]\n",
      " [1.]\n",
      " [1.]\n",
      " [1.]\n",
      " [1.]\n",
      " [0.]\n",
      " [0.]\n",
      " [1.]\n",
      " [0.]\n",
      " [0.]\n",
      " [1.]\n",
      " [0.]\n",
      " [1.]\n",
      " [1.]\n",
      " [0.]\n",
      " [1.]\n",
      " [0.]\n",
      " [0.]\n",
      " [1.]\n",
      " [0.]\n",
      " [0.]\n",
      " [0.]\n",
      " [0.]\n",
      " [0.]\n",
      " [1.]]\n"
     ]
    }
   ],
   "source": [
    "y_predic = predict(X_test, params)\n",
    "\n",
    "print(y_predic)"
   ]
  },
  {
   "cell_type": "markdown",
   "metadata": {},
   "source": [
    "### 准确率评估"
   ]
  },
  {
   "cell_type": "code",
   "execution_count": 14,
   "metadata": {},
   "outputs": [
    {
     "name": "stdout",
     "output_type": "stream",
     "text": [
      "r2_score : 0.7333333333333334\n"
     ]
    }
   ],
   "source": [
    "from sklearn.metrics import r2_score\n",
    "print('r2_score : ' + str(r2_score(y_test,y_predic)))"
   ]
  },
  {
   "cell_type": "markdown",
   "metadata": {},
   "source": [
    "### 最后展示训练后图像"
   ]
  },
  {
   "cell_type": "code",
   "execution_count": 15,
   "metadata": {},
   "outputs": [
    {
     "data": {
      "image/png": "[encoded data removed]",
      "text/plain": [
       "<Figure size 432x288 with 1 Axes>"
      ]
     },
     "metadata": {
      "needs_background": "light"
     },
     "output_type": "display_data"
    }
   ],
   "source": [
    "n = X_train.shape[0]\n",
    "xcord1 = []\n",
    "ycord1 = []\n",
    "xcord2 = []\n",
    "ycord2 = []    \n",
    "for i in range(n):        \n",
    "    if y_train[i] == 1:\n",
    "        xcord1.append(X_train[i][0])\n",
    "        ycord1.append(X_train[i][1])        \n",
    "    else:\n",
    "        xcord2.append(X_train[i][0])\n",
    "        ycord2.append(X_train[i][1])\n",
    "\n",
    "fig = plt.figure()\n",
    "ax = fig.add_subplot(111)\n",
    "ax.scatter(xcord1, ycord1,s=32, c='red')\n",
    "ax.scatter(xcord2, ycord2, s=32, c='green')\n",
    "x = np.arange(-3.5, 3.5, 0.1)\n",
    "y = (-params['b'] - params['W'][0] * x) / params['W'][1]\n",
    "ax.plot(x, y)\n",
    "plt.xlabel('X1')\n",
    "plt.ylabel('X2')\n",
    "plt.show()"
   ]
  },
  {
   "cell_type": "code",
   "execution_count": null,
   "metadata": {},
   "outputs": [],
   "source": []
  }
 ],
 "metadata": {
  "kernelspec": {
   "display_name": "Python 3",
   "language": "python",
   "name": "python3"
  },
  "language_info": {
   "codemirror_mode": {
    "name": "ipython",
    "version": 3
   },
   "file_extension": ".py",
   "mimetype": "text/x-python",
   "name": "python",
   "nbconvert_exporter": "python",
   "pygments_lexer": "ipython3",
   "version": "3.7.3"
  }
 },
 "nbformat": 4,
 "nbformat_minor": 2
}
